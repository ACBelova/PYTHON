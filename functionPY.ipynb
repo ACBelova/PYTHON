{
 "cells": [
  {
   "cell_type": "markdown",
   "id": "630da620",
   "metadata": {},
   "source": [
    "f(x) = -12x^4*sin(cos(x)) - 18x^3+5x^2 + 10x - 30\n",
    "\n",
    "-Определить корни\n",
    "-Найти интервалы, на которых функция возрастает\n",
    "-Найти интервалы, на которых функция убывает\n",
    "-Построить график\n",
    "-Вычислить вершину\n",
    "-Определить промежутки, на котором f > 0\n",
    "-Определить промежутки, на котором f < 0"
   ]
  },
  {
   "cell_type": "code",
   "execution_count": 28,
   "id": "b56bcbc2",
   "metadata": {
    "scrolled": true
   },
   "outputs": [],
   "source": [
    "from sympy import *\n",
    "from sympy.plotting import plot\n",
    "from sympy.abc import x\n",
    "\n",
    "\n",
    "expr = -12*x**4*sin(cos(x))-18*x**3+5*x**2+10*x-30\n",
    "accur = 100\n",
    "start = -7\n",
    "end = 7\n",
    "\n",
    "xs = [x/accur for x in range(start*accur, end*accur + 1)]\n",
    "ys = [expr.subs(x, value) for value in xs]\n",
    "dot = list(zip(xs, ys))\n",
    "\n"
   ]
  },
  {
   "cell_type": "code",
   "execution_count": 29,
   "id": "4f26699b",
   "metadata": {},
   "outputs": [
    {
     "data": {
      "text/latex": [
       "$\\displaystyle \\left\\{x\\; \\middle|\\; x \\in \\mathbb{R} \\wedge - 12 x^{4} \\sin{\\left(\\cos{\\left(x \\right)} \\right)} - 18 x^{3} + 5 x^{2} + 10 x - 30 = 0 \\right\\}$"
      ],
      "text/plain": [
       "ConditionSet(x, Eq(-12*x**4*sin(cos(x)) - 18*x**3 + 5*x**2 + 10*x - 30, 0), Reals)"
      ]
     },
     "execution_count": 29,
     "metadata": {},
     "output_type": "execute_result"
    }
   ],
   "source": [
    "solveset(-12*(x**4)*sin(cos(x))-18*x**3+5*x**2+10*x-30, x, domain=Reals)"
   ]
  },
  {
   "cell_type": "code",
   "execution_count": 30,
   "id": "f0202d7e",
   "metadata": {},
   "outputs": [
    {
     "name": "stdout",
     "output_type": "stream",
     "text": [
      "Интервалы возрастания:\n",
      "[-6.83, -4.17] [-0.39, 0.45] [1.7, 3.82]\n",
      "Интервалы убывания:\n",
      "[-7.0, -6.83] [-4.17, -0.39] [0.45, 1.7] [3.82, 7.0]\n"
     ]
    }
   ],
   "source": [
    "increasing, decreasing = [], []\n",
    "flag_increase = True\n",
    "while len(dot) >= 2:\n",
    "    counter = 0\n",
    "    if flag_increase:\n",
    "        while dot[counter][0] < end and dot[counter + 1][1] > dot[counter][1]:\n",
    "            counter += 1\n",
    "        if counter != 0:\n",
    "            increasing.append([dot[0][0], dot[counter][0]])\n",
    "        flag_increase = False\n",
    "    else:\n",
    "        while dot[counter][0] < end and dot[counter + 1][1] < dot[counter][1]:\n",
    "            counter += 1\n",
    "        if counter != 0:\n",
    "            decreasing.append([dot[0][0], dot[counter][0]])\n",
    "        flag_increase = True\n",
    "    del dot[:counter]\n",
    "\n",
    "print(\"Интервалы возрастания:\")\n",
    "print(*increasing)\n",
    "print(\"Интервалы убывания:\")\n",
    "print(*decreasing)"
   ]
  },
  {
   "cell_type": "code",
   "execution_count": 38,
   "id": "34fed1f6",
   "metadata": {},
   "outputs": [
    {
     "data": {
      "image/png": "[encoded data removed]",
      "text/plain": [
       "<Figure size 640x480 with 1 Axes>"
      ]
     },
     "metadata": {},
     "output_type": "display_data"
    }
   ],
   "source": [
    "import matplotlib.pyplot as plt\n",
    "\n",
    "x = [-12*x**4*sin(cos(x))-18*x**3+5*x**2+10*x-30 for x in range(-10, 11)]\n",
    "y = [y for y in range(-10, 11)]\n",
    "plt.plot(y, x, 'r--')\n",
    "plt.grid(True)\n",
    "plt.show()"
   ]
  },
  {
   "cell_type": "code",
   "execution_count": 40,
   "id": "83e8e213",
   "metadata": {},
   "outputs": [
    {
     "name": "stdout",
     "output_type": "stream",
     "text": [
      "Точки экстремума:\n",
      "(-6.83, -13820.5103804871) (-4.17, 3111.34748026531) (-0.39, -32.2934502471160) (0.45, -26.5133423096216) (1.7, -74.1062343439542) (3.82, 872.254954283837)\n"
     ]
    }
   ],
   "source": [
    "dot = list(zip(xs, ys))\n",
    "extrema = []\n",
    "flag_incr = True\n",
    "prior = dot[0]\n",
    "for current in points[1:]:\n",
    "    if (flag_incr and prior[1] > current[1]) or (not flag_incr and prior[1] < current[1]):\n",
    "        prior = current\n",
    "        continue\n",
    "    else:\n",
    "        extrema.append(prior)\n",
    "        prior = current\n",
    "        flag_incr = not flag_incr\n",
    "\n",
    "print(\"Точки экстремума:\")\n",
    "print(*extrema)"
   ]
  },
  {
   "cell_type": "code",
   "execution_count": 41,
   "id": "74b34b94",
   "metadata": {},
   "outputs": [
    {
     "name": "stdout",
     "output_type": "stream",
     "text": [
      "Интервалы, на котором f > 0:\n",
      "[-5.02, -1.35] [2.28, 4.37]\n",
      "Интервалы, на котором f < 0:\n",
      "[-7.0, -5.04] [-1.33, 2.26] [4.39, 6.98]\n"
     ]
    }
   ],
   "source": [
    "dot = list(zip(xs, ys))\n",
    "above, below = [], []\n",
    "flag_increase = False\n",
    "while len(dot) >= 2:\n",
    "    counter = 0\n",
    "    if flag_increase:\n",
    "        while dot[counter][0] < end and dot[counter][1] > 0:\n",
    "            counter += 1\n",
    "        if counter != 0:\n",
    "            above.append([dot[0][0], dot[counter - 2][0]])\n",
    "        flag_increase = False\n",
    "    else:\n",
    "        while dot[counter][0] < end and dot[counter][1] < 0:\n",
    "            counter += 1\n",
    "        if counter != 0:\n",
    "            below.append([dot[0][0], dot[counter - 2][0]])\n",
    "        flag_increase = True\n",
    "    del dot[:counter]\n",
    "\n",
    "print(\"Интервалы, на котором f > 0:\")\n",
    "print(*above)\n",
    "print(\"Интервалы, на котором f < 0:\")\n",
    "print(*below)"
   ]
  },
  {
   "cell_type": "code",
   "execution_count": null,
   "id": "e14e2010",
   "metadata": {},
   "outputs": [],
   "source": []
  }
 ],
 "metadata": {
  "kernelspec": {
   "display_name": "Python 3 (ipykernel)",
   "language": "python",
   "name": "python3"
  },
  "language_info": {
   "codemirror_mode": {
    "name": "ipython",
    "version": 3
   },
   "file_extension": ".py",
   "mimetype": "text/x-python",
   "name": "python",
   "nbconvert_exporter": "python",
   "pygments_lexer": "ipython3",
   "version": "3.9.13"
  }
 },
 "nbformat": 4,
 "nbformat_minor": 5
}
